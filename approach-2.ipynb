{
 "cells": [
  {
   "cell_type": "code",
   "execution_count": 2,
   "metadata": {},
   "outputs": [],
   "source": [
    "import pandas as pd"
   ]
  },
  {
   "cell_type": "code",
   "execution_count": 10,
   "metadata": {},
   "outputs": [],
   "source": [
    "core_courses = {\n",
    "    \"Programming Fundamentals\": \"3-1\",\n",
    "    \"Object Oriented Programming\": \"3-1\",\n",
    "    \"Data Structures & Algorithms\": \"3-1\",\n",
    "    \"Discrete Structures\": \"3-0\",\n",
    "    \"Operating Systems\": \"3-1\",\n",
    "    \"Database Systems\": \"3-1\",\n",
    "    \"Software Engineering\": \"3-0\",\n",
    "    \"Computer Networks\": \"3-1\",\n",
    "    \"Information Security\": \"3-0\",\n",
    "    \"Final Year Project\": \"0-6\"\n",
    "}\n",
    "\n",
    "{English Composition & Comprehension 3 \n",
    "Technical & Business Writing 3 \n",
    "Communication & Presentation Skills 3 \n",
    "Professional Practices 3 \n",
    "Intro to Info. & Comm. Technologies 2-1 \n",
    "Pakistan Studies 2 \n",
    "Islamic Studies/ Ethics 2 }"
   ]
  },
  {
   "cell_type": "code",
   "execution_count": 15,
   "metadata": {},
   "outputs": [
    {
     "name": "stdout",
     "output_type": "stream",
     "text": [
      "The following courses have not been studied, not passed, or failed: Data Structures & Algorithms, Discrete Structures, Software Engineering, Information Security\n"
     ]
    }
   ],
   "source": [
    "import pandas as pd\n",
    "\n",
    "def check_courses(df):\n",
    "    df['courseName'] = df['courseName'].str.replace(' Lab', '')\n",
    "    \n",
    "    df_grouped = df.groupby('courseName')['points'].sum().reset_index()\n",
    "    \n",
    "    studied_courses = df_grouped.set_index('courseName')['points'].to_dict()\n",
    "    \n",
    "    missing_or_failed_courses = []\n",
    "    \n",
    "    for course, hours in core_courses.items():\n",
    "        theory_hours, lab_hours = map(int, hours.split('-'))\n",
    "        total_hours = theory_hours + lab_hours\n",
    "        if course not in studied_courses:\n",
    "            missing_or_failed_courses.append(course)\n",
    "        elif studied_courses[course] < 1:\n",
    "            missing_or_failed_courses.append(course)\n",
    "        elif studied_courses[course] >= 1 and studied_courses[course] < total_hours:\n",
    "            missing_or_failed_courses.append(course)\n",
    "    \n",
    "    if missing_or_failed_courses:\n",
    "        return f\"The following courses have not been studied, not passed, or failed: {', '.join(missing_or_failed_courses)}\"\n",
    "    else:\n",
    "        return \"All core computing courses have been studied and passed.\"\n",
    "\n",
    "df = pd.read_csv('P1 - HEC Degree Requiremnts\\Raw Data\\Std-001.csv')\n",
    "print(check_courses(df))"
   ]
  },
  {
   "cell_type": "code",
   "execution_count": 12,
   "metadata": {},
   "outputs": [
    {
     "data": {
      "text/html": [
       "<div>\n",
       "<style scoped>\n",
       "    .dataframe tbody tr th:only-of-type {\n",
       "        vertical-align: middle;\n",
       "    }\n",
       "\n",
       "    .dataframe tbody tr th {\n",
       "        vertical-align: top;\n",
       "    }\n",
       "\n",
       "    .dataframe thead th {\n",
       "        text-align: right;\n",
       "    }\n",
       "</style>\n",
       "<table border=\"1\" class=\"dataframe\">\n",
       "  <thead>\n",
       "    <tr style=\"text-align: right;\">\n",
       "      <th></th>\n",
       "      <th>semester</th>\n",
       "      <th>courseName</th>\n",
       "      <th>creditHour</th>\n",
       "      <th>grade</th>\n",
       "      <th>points</th>\n",
       "      <th>type</th>\n",
       "      <th>rmk</th>\n",
       "    </tr>\n",
       "  </thead>\n",
       "  <tbody>\n",
       "    <tr>\n",
       "      <th>0</th>\n",
       "      <td>1</td>\n",
       "      <td>Programming Fundamentals</td>\n",
       "      <td>3</td>\n",
       "      <td>C-</td>\n",
       "      <td>1.67</td>\n",
       "      <td>C</td>\n",
       "      <td>NaN</td>\n",
       "    </tr>\n",
       "    <tr>\n",
       "      <th>1</th>\n",
       "      <td>1</td>\n",
       "      <td>English Composition &amp; Comprehension</td>\n",
       "      <td>1</td>\n",
       "      <td>C</td>\n",
       "      <td>2.00</td>\n",
       "      <td>C</td>\n",
       "      <td>NaN</td>\n",
       "    </tr>\n",
       "    <tr>\n",
       "      <th>2</th>\n",
       "      <td>1</td>\n",
       "      <td>Islamic Studies &amp; Ethics</td>\n",
       "      <td>3</td>\n",
       "      <td>A</td>\n",
       "      <td>4.00</td>\n",
       "      <td>C</td>\n",
       "      <td>NaN</td>\n",
       "    </tr>\n",
       "    <tr>\n",
       "      <th>3</th>\n",
       "      <td>1</td>\n",
       "      <td>Applied Physics</td>\n",
       "      <td>3</td>\n",
       "      <td>B</td>\n",
       "      <td>3.00</td>\n",
       "      <td>C</td>\n",
       "      <td>NaN</td>\n",
       "    </tr>\n",
       "    <tr>\n",
       "      <th>4</th>\n",
       "      <td>1</td>\n",
       "      <td>Calculus &amp; Analytical Geometry</td>\n",
       "      <td>3</td>\n",
       "      <td>C</td>\n",
       "      <td>2.00</td>\n",
       "      <td>C</td>\n",
       "      <td>NaN</td>\n",
       "    </tr>\n",
       "  </tbody>\n",
       "</table>\n",
       "</div>"
      ],
      "text/plain": [
       "   semester                           courseName  creditHour grade  points  \\\n",
       "0         1             Programming Fundamentals           3    C-    1.67   \n",
       "1         1  English Composition & Comprehension           1     C    2.00   \n",
       "2         1             Islamic Studies & Ethics           3     A    4.00   \n",
       "3         1                      Applied Physics           3     B    3.00   \n",
       "4         1       Calculus & Analytical Geometry           3     C    2.00   \n",
       "\n",
       "  type  rmk  \n",
       "0    C  NaN  \n",
       "1    C  NaN  \n",
       "2    C  NaN  \n",
       "3    C  NaN  \n",
       "4    C  NaN  "
      ]
     },
     "execution_count": 12,
     "metadata": {},
     "output_type": "execute_result"
    }
   ],
   "source": [
    "df.head()"
   ]
  },
  {
   "cell_type": "code",
   "execution_count": null,
   "metadata": {},
   "outputs": [],
   "source": []
  }
 ],
 "metadata": {
  "kernelspec": {
   "display_name": "Python 3",
   "language": "python",
   "name": "python3"
  },
  "language_info": {
   "codemirror_mode": {
    "name": "ipython",
    "version": 3
   },
   "file_extension": ".py",
   "mimetype": "text/x-python",
   "name": "python",
   "nbconvert_exporter": "python",
   "pygments_lexer": "ipython3",
   "version": "3.8.18"
  }
 },
 "nbformat": 4,
 "nbformat_minor": 2
}
